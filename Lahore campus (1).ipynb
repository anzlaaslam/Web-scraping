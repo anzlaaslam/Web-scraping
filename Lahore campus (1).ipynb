{
 "cells": [
  {
   "cell_type": "code",
   "execution_count": 2,
   "id": "4a48a90f",
   "metadata": {},
   "outputs": [],
   "source": [
    "import requests\n",
    "# to scrap data\n"
   ]
  },
  {
   "cell_type": "code",
   "execution_count": 3,
   "id": "1d4ff46a",
   "metadata": {},
   "outputs": [],
   "source": [
    "from bs4 import BeautifulSoup\n",
    "# to extract html content"
   ]
  },
  {
   "cell_type": "code",
   "execution_count": 4,
   "id": "02d0ea45",
   "metadata": {},
   "outputs": [],
   "source": [
    "import pandas as pd"
   ]
  },
  {
   "cell_type": "code",
   "execution_count": 5,
   "id": "aa746828",
   "metadata": {},
   "outputs": [
    {
     "name": "stdout",
     "output_type": "stream",
     "text": [
      "<Response [200]>\n"
     ]
    }
   ],
   "source": [
    "URL = \"https://lhr.nu.edu.pk/fsc/faculty/\"\n",
    "r = requests.get(URL)\n",
    "print(r)\n",
    "# returns no of requests"
   ]
  },
  {
   "cell_type": "code",
   "execution_count": null,
   "id": "38d86467",
   "metadata": {},
   "outputs": [],
   "source": []
  },
  {
   "cell_type": "code",
   "execution_count": 6,
   "id": "b62b985f",
   "metadata": {},
   "outputs": [],
   "source": [
    "soup = BeautifulSoup (r.content, 'html.parser')\n"
   ]
  },
  {
   "cell_type": "code",
   "execution_count": null,
   "id": "f572cff4",
   "metadata": {},
   "outputs": [],
   "source": []
  },
  {
   "cell_type": "code",
   "execution_count": 7,
   "id": "9e5e5216",
   "metadata": {},
   "outputs": [],
   "source": [
    "a=soup.findAll('div',{\"id\":\"faculty-tab\"})\n",
    "\n",
    "    \n",
    "f1= a[0]\n",
    "f2=a[1]\n",
    "f3=a[2]"
   ]
  },
  {
   "cell_type": "code",
   "execution_count": 8,
   "id": "d6d1986c",
   "metadata": {},
   "outputs": [],
   "source": [
    "\n",
    "cs=f1.findAll('div',class_ = \"facultyCard\")"
   ]
  },
  {
   "cell_type": "code",
   "execution_count": 9,
   "id": "dd7bde89",
   "metadata": {},
   "outputs": [],
   "source": [
    "\n",
    "ds=f2.findAll('div',class_ = \"facultyCard\")\n"
   ]
  },
  {
   "cell_type": "code",
   "execution_count": 10,
   "id": "af4212ea",
   "metadata": {},
   "outputs": [],
   "source": [
    "\n",
    "id_ =[]\n",
    "img =[]\n",
    "name=[]\n",
    "email=[]\n",
    "desig=[]\n",
    "profile=[]\n",
    "bool_HEC=[]\n",
    "department=[]\n",
    "exten=[]\n",
    "education=[]\n",
    "import re"
   ]
  },
  {
   "cell_type": "markdown",
   "id": "a9079710",
   "metadata": {},
   "source": [
    "# CS"
   ]
  },
  {
   "cell_type": "code",
   "execution_count": 11,
   "id": "5b8a0e28",
   "metadata": {
    "scrolled": true
   },
   "outputs": [],
   "source": [
    "for i in range (len(cs)):\n",
    "    faculty = cs[i]\n",
    "    try:\n",
    "        id_.append(int(faculty.find(class_ = 'faculty-link')['href'].split('/')[-1]))\n",
    "    except:\n",
    "        id_.append(-1)\n",
    "    name.append(faculty.find('h5', class_='text-center').text)\n",
    "    desig.append(faculty.find('p',class_='small').text.strip().split('\\n')[0])\n",
    "    email.append(faculty.find('p', class_='mb-0').text)\n",
    "    img.append('https://lhr.nu.edu.pk'+faculty.find('img', class_='card-img-top')['src'])\n",
    "    profile.append('https://lhr.nu.edu.pk'+faculty.find('a',class_='faculty-link')['href'])\n",
    "    bool_HEC.append('HEC' in (faculty.find('p' , class_ = 'small').text.strip()))\n",
    "    department.append('CS')\n",
    "    r_loop= requests.get(profile[-1])\n",
    "    soup_temp= BeautifulSoup (r_loop.content, 'html.parser')\n",
    "    soup_temp1=soup_temp.find('div',class_='facultyCard')\n",
    "    exten.append(soup_temp1.find('span',class_='small').text.split(':')[-1])\n",
    "    try:\n",
    "        soup_temp2=soup_temp.find('div',class_='col-lg-8')\n",
    "        soup_temp2=soup_temp2.find('ul')\n",
    "        education.append(soup_temp2.find('li').text.split('(')[0])\n",
    "    except:\n",
    "        education.append('None')"
   ]
  },
  {
   "cell_type": "markdown",
   "id": "f10c79bd",
   "metadata": {},
   "source": [
    "# DS"
   ]
  },
  {
   "cell_type": "code",
   "execution_count": 12,
   "id": "6200c069",
   "metadata": {},
   "outputs": [],
   "source": [
    "for i in range (len(ds)):\n",
    "    faculty = ds[i]\n",
    "    try:\n",
    "        id_.append(int(faculty.find(class_ = 'faculty-link')['href'].split('/')[-1]))\n",
    "    except:\n",
    "        id_.append(-1)\n",
    "    name.append(faculty.find('h5', class_='text-center').text)\n",
    "    desig.append(faculty.find('p',class_='small').text.strip().split('\\n')[0])\n",
    "    email.append(faculty.find('p', class_='mb-0').text)\n",
    "    img.append('https://lhr.nu.edu.pk'+faculty.find('img', class_='card-img-top')['src'])\n",
    "    profile.append('https://lhr.nu.edu.pk'+faculty.find('a',class_='faculty-link')['href'])\n",
    "    bool_HEC.append('HEC' in (faculty.find('p' , class_ = 'small').text.strip()))\n",
    "    department.append('DS')\n",
    "    r_loop= requests.get(profile[-1])\n",
    "    soup_temp= BeautifulSoup (r_loop.content, 'html.parser')\n",
    "    soup_temp1=soup_temp.find('div',class_='facultyCard')\n",
    "    exten.append(soup_temp1.find('span',class_='small').text.split(':')[-1])\n",
    "    try:\n",
    "        soup_temp2=soup_temp.find('div',class_='col-lg-8')\n",
    "        soup_temp2=soup_temp2.find('ul')\n",
    "        education.append(soup_temp2.find('li').text.split('(')[0])\n",
    "    except:\n",
    "        education.append('None')"
   ]
  },
  {
   "cell_type": "markdown",
   "id": "e58666b3",
   "metadata": {},
   "source": [
    "\n",
    "# SE"
   ]
  },
  {
   "cell_type": "code",
   "execution_count": 13,
   "id": "0d8924f3",
   "metadata": {},
   "outputs": [],
   "source": [
    "se=f3.findAll('div',class_ = \"facultyCard\")\n",
    "for i in range (len(se)):\n",
    "    faculty = se[i]\n",
    "    try:\n",
    "        id_.append(int(faculty.find(class_ = 'faculty-link')['href'].split('/')[-1]))\n",
    "    except:\n",
    "        id_.append(-1)\n",
    "    name.append(faculty.find('h5', class_='text-center').text)\n",
    "    desig.append(faculty.find('p',class_='small').text.strip().split('\\n')[0])\n",
    "    email.append(faculty.find('p', class_='mb-0').text)\n",
    "    img.append('https://lhr.nu.edu.pk'+faculty.find('img', class_='card-img-top')['src'])\n",
    "    profile.append('https://lhr.nu.edu.pk'+faculty.find('a',class_='faculty-link')['href'])\n",
    "    bool_HEC.append('HEC' in (faculty.find('p' , class_ = 'small').text.strip()))\n",
    "    department.append('SE')\n",
    "    r_loop= requests.get(profile[-1])\n",
    "    soup_temp= BeautifulSoup (r_loop.content, 'html.parser')\n",
    "    soup_temp1=soup_temp.find('div',class_='facultyCard')\n",
    "    exten.append(soup_temp1.find('span',class_='small').text.split(':')[-1])\n",
    "    try:\n",
    "        soup_temp2=soup_temp.find('div',class_='col-lg-8')\n",
    "        soup_temp2=soup_temp2.find('ul')\n",
    "        education.append(soup_temp2.find('li').text.split('(')[0])\n",
    "    except:\n",
    "        education.append('None')\n",
    "    \n",
    "    "
   ]
  },
  {
   "cell_type": "code",
   "execution_count": 14,
   "id": "3da3d236",
   "metadata": {},
   "outputs": [],
   "source": [
    "URLa= \"https://lhr.nu.edu.pk/faculty/\"\n",
    "ra= requests.get(URLa)"
   ]
  },
  {
   "cell_type": "code",
   "execution_count": 15,
   "id": "76fb8a6b",
   "metadata": {},
   "outputs": [],
   "source": [
    "soupa= BeautifulSoup (ra.content, 'html.parser')\n",
    "#soup"
   ]
  },
  {
   "cell_type": "code",
   "execution_count": 16,
   "id": "1c14cb76",
   "metadata": {},
   "outputs": [],
   "source": [
    "a=soupa.find('div',{\"id\":\"ee\"})\n",
    "ee=a.findAll('div',class_ = \"facultyCard\")\n"
   ]
  },
  {
   "cell_type": "code",
   "execution_count": 17,
   "id": "4c42165e",
   "metadata": {},
   "outputs": [],
   "source": [
    "for i in range (len(ee)):\n",
    "    faculty = ee[i]\n",
    "    try:\n",
    "        id_.append(int(faculty.find(class_ = 'faculty-link')['href'].split('/')[-1]))\n",
    "    except:\n",
    "        id_.append(-1)\n",
    "    name.append(faculty.find('h5', class_='text-center').text)\n",
    "    desig.append(faculty.find('p',class_='small').text.strip().split('\\n')[0])\n",
    "    email.append(faculty.find('p', class_='mb-0').text)\n",
    "    img.append('https://lhr.nu.edu.pk'+faculty.find('img', class_='card-img-top')['src'])\n",
    "    profile.append('https://lhr.nu.edu.pk'+faculty.find('a',class_='faculty-link')['href'])\n",
    "    bool_HEC.append('HEC' in (faculty.find('p' , class_ = 'small').text.strip()))\n",
    "    department.append('EE')\n",
    "    r_loop= requests.get(profile[-1])\n",
    "    soup_temp= BeautifulSoup (r_loop.content, 'html.parser')\n",
    "    soup_temp1=soup_temp.find('div',class_='facultyCard')\n",
    "    exten.append(soup_temp1.find('span',class_='small').text.split(':')[-1])\n",
    "    try:\n",
    "        soup_temp2=soup_temp.find('div',class_='col-lg-8')\n",
    "        soup_temp2=soup_temp2.find('ul')\n",
    "        education.append(soup_temp2.find('li').text.split('(')[0])\n",
    "    except:\n",
    "        education.append('None')\n",
    "    \n"
   ]
  },
  {
   "cell_type": "code",
   "execution_count": 18,
   "id": "3683346c",
   "metadata": {},
   "outputs": [],
   "source": [
    "#soup.findAll('div')"
   ]
  },
  {
   "cell_type": "code",
   "execution_count": 19,
   "id": "c2ff26d2",
   "metadata": {},
   "outputs": [],
   "source": [
    "a1=soupa.find('div',{\"id\":\"cv\"})\n",
    "cv=a1.findAll('div',class_ = \"facultyCard\")\n"
   ]
  },
  {
   "cell_type": "code",
   "execution_count": 20,
   "id": "a374d377",
   "metadata": {},
   "outputs": [],
   "source": [
    "for i in range (len(cv)):\n",
    "    faculty = cv[i]\n",
    "    try:\n",
    "        id_.append(int(faculty.find(class_ = 'faculty-link')['href'].split('/')[-1]))\n",
    "    except:\n",
    "        id_.append(-1)\n",
    "    name.append(faculty.find('h5', class_='text-center').text)\n",
    "    desig.append(faculty.find('p',class_='small').text.strip().split('\\n')[0])\n",
    "    email.append(faculty.find('p', class_='mb-0').text)\n",
    "    img.append('https://lhr.nu.edu.pk'+faculty.find('img', class_='card-img-top')['src'])\n",
    "    profile.append('https://lhr.nu.edu.pk'+faculty.find('a',class_='faculty-link')['href'])\n",
    "    bool_HEC.append('HEC' in (faculty.find('p' , class_ = 'small').text.strip()))\n",
    "    department.append('CV')\n",
    "    r_loop= requests.get(profile[-1])\n",
    "    soup_temp= BeautifulSoup (r_loop.content, 'html.parser')\n",
    "    soup_temp1=soup_temp.find('div',class_='facultyCard')\n",
    "    exten.append(soup_temp1.find('span',class_='small').text.split(':')[-1])\n",
    "    try:\n",
    "        soup_temp2=soup_temp.find('div',class_='col-lg-8')\n",
    "        soup_temp2=soup_temp2.find('ul')\n",
    "        education.append(soup_temp2.find('li').text.split('(')[0])\n",
    "    except:\n",
    "        education.append('None')\n",
    "    \n"
   ]
  },
  {
   "cell_type": "code",
   "execution_count": 21,
   "id": "d59810c1",
   "metadata": {},
   "outputs": [],
   "source": [
    "a2=soupa.find('div',{\"id\":\"fsm\"})\n",
    "fsm=a2.findAll('div',class_ = \"facultyCard\")\n"
   ]
  },
  {
   "cell_type": "code",
   "execution_count": 22,
   "id": "46d43818",
   "metadata": {},
   "outputs": [],
   "source": [
    "for i in range (len(fsm)):\n",
    "    faculty = fsm[i]\n",
    "    try:\n",
    "        id_.append(int(faculty.find(class_ = 'faculty-link')['href'].split('/')[-1]))\n",
    "    except:\n",
    "        id_.append(-1)\n",
    "    name.append(faculty.find('h5', class_='text-center').text)\n",
    "    desig.append(faculty.find('p',class_='small').text.strip().split('\\n')[0])\n",
    "    email.append(faculty.find('p', class_='mb-0').text)\n",
    "    img.append('https://lhr.nu.edu.pk'+faculty.find('img', class_='card-img-top')['src'])\n",
    "    profile.append('https://lhr.nu.edu.pk'+faculty.find('a',class_='faculty-link')['href'])\n",
    "    bool_HEC.append('HEC' in (faculty.find('p' , class_ = 'small').text.strip()))\n",
    "    department.append('FSM')\n",
    "    r_loop= requests.get(profile[-1])\n",
    "    soup_temp= BeautifulSoup (r_loop.content, 'html.parser')\n",
    "    soup_temp1=soup_temp.find('div',class_='facultyCard')\n",
    "    exten.append(soup_temp1.find('span',class_='small').text.split(':')[-1])\n",
    "    try:\n",
    "        soup_temp2=soup_temp.find('div',class_='col-lg-8')\n",
    "        soup_temp2=soup_temp2.find('ul')\n",
    "        education.append(soup_temp2.find('li').text.split('(')[0])\n",
    "    except:\n",
    "        education.append('None')\n",
    "    \n",
    "    \n"
   ]
  },
  {
   "cell_type": "code",
   "execution_count": 23,
   "id": "e3a3af1a",
   "metadata": {},
   "outputs": [],
   "source": [
    "a3=soupa.find('div',{\"id\":\"ss\"})\n",
    "ss=a3.findAll('div',class_ = \"facultyCard\")\n"
   ]
  },
  {
   "cell_type": "code",
   "execution_count": 24,
   "id": "66bfa3a9",
   "metadata": {},
   "outputs": [],
   "source": [
    "for i in range (len(ss)):\n",
    "    faculty = ss[i]\n",
    "    try:\n",
    "        id_.append(int(faculty.find(class_ = 'faculty-link')['href'].split('/')[-1]))\n",
    "    except:\n",
    "        id_.append(-1)\n",
    "    name.append(faculty.find('h5', class_='text-center').text)\n",
    "    desig.append(faculty.find('p',class_='small').text.strip().split('\\n')[0])\n",
    "    email.append(faculty.find('p', class_='mb-0').text)\n",
    "    img.append('https://lhr.nu.edu.pk'+faculty.find('img', class_='card-img-top')['src'])\n",
    "    profile.append('https://lhr.nu.edu.pk'+faculty.find('a',class_='faculty-link')['href'])\n",
    "    bool_HEC.append('HEC' in (faculty.find('p' , class_ = 'small').text.strip()))\n",
    "    department.append('SS')\n",
    "    r_loop= requests.get(profile[-1])\n",
    "    soup_temp= BeautifulSoup (r_loop.content, 'html.parser')\n",
    "    soup_temp1=soup_temp.find('div',class_='facultyCard')\n",
    "    exten.append(soup_temp1.find('span',class_='small').text.split(':')[-1])\n",
    "    try:\n",
    "        soup_temp2=soup_temp.find('div',class_='col-lg-8')\n",
    "        soup_temp2=soup_temp2.find('ul')\n",
    "        education.append(soup_temp2.find('li').text.split('(')[0])\n",
    "    except:\n",
    "        education.append('None')\n",
    "    \n",
    "    "
   ]
  },
  {
   "cell_type": "code",
   "execution_count": 27,
   "id": "db7bd5d0",
   "metadata": {},
   "outputs": [
    {
     "ename": "NameError",
     "evalue": "name 'length' is not defined",
     "output_type": "error",
     "traceback": [
      "\u001b[1;31m---------------------------------------------------------------------------\u001b[0m",
      "\u001b[1;31mNameError\u001b[0m                                 Traceback (most recent call last)",
      "Cell \u001b[1;32mIn[27], line 1\u001b[0m\n\u001b[1;32m----> 1\u001b[0m \u001b[38;5;28;01mfor\u001b[39;00m i \u001b[38;5;129;01min\u001b[39;00m \u001b[38;5;28mrange\u001b[39m (\u001b[43mlength\u001b[49m):\n\u001b[0;32m      2\u001b[0m     faculty \u001b[38;5;241m=\u001b[39m soup\u001b[38;5;241m.\u001b[39mfindAll(\u001b[38;5;124m'\u001b[39m\u001b[38;5;124mdiv\u001b[39m\u001b[38;5;124m'\u001b[39m , class_ \u001b[38;5;241m=\u001b[39m \u001b[38;5;124m\"\u001b[39m\u001b[38;5;124mfacultyCard\u001b[39m\u001b[38;5;124m\"\u001b[39m)[i]\n\u001b[0;32m      4\u001b[0m     \u001b[38;5;28;01mtry\u001b[39;00m:\n",
      "\u001b[1;31mNameError\u001b[0m: name 'length' is not defined"
     ]
    }
   ],
   "source": [
    "for i in range (length):\n",
    "    faculty = soup.findAll('div' , class_ = \"facultyCard\")[i]\n",
    "    \n",
    "    try:\n",
    "        id_.append(int(faculty.find(class_ = 'faculty-link')['href'].split('/')[-1]))\n",
    "    except:\n",
    "        id_.append(-1)\n",
    "    name.append(faculty.find('h5', class_='text-center').text)\n",
    "    desig.append(faculty.find('p',class_='small').text.strip().split('\\n')[0])\n",
    "    email.append(faculty.find('p', class_='mb-0').text)\n",
    "    img.append('https://lhr.nu.edu.pk'+faculty.find('img', class_='card-img-top')['src'])\n",
    "    profile.append('https://lhr.nu.edu.pk'+faculty.find('a',class_='faculty-link')['href'])\n",
    "    bool_HEC.append('HEC' in (faculty.find('p' , class_ = 'small').text.strip()))\n",
    "    department.append(faculty.find())\n",
    "    URL1 = \"https://lhr.nu.edu.pk/fsc/facultyProfile/1238\"\n",
    "    r1 = requests.get(URL1)\n",
    "    \n",
    "    #print(r1)\n",
    " "
   ]
  },
  {
   "cell_type": "code",
   "execution_count": 28,
   "id": "226a1abf",
   "metadata": {},
   "outputs": [
    {
     "name": "stdout",
     "output_type": "stream",
     "text": [
      "184\n",
      "184\n",
      "184\n",
      "184\n",
      "184\n",
      "184\n"
     ]
    }
   ],
   "source": [
    "print(len(id_))\n",
    "print(len(name))\n",
    "print(len(email))\n",
    "print(len(profile))\n",
    "print(len(desig))\n",
    "print(len(img))"
   ]
  },
  {
   "cell_type": "code",
   "execution_count": 29,
   "id": "c97e0636",
   "metadata": {},
   "outputs": [],
   "source": [
    "#id_"
   ]
  },
  {
   "cell_type": "code",
   "execution_count": null,
   "id": "a1d4568f",
   "metadata": {},
   "outputs": [],
   "source": []
  },
  {
   "cell_type": "code",
   "execution_count": 30,
   "id": "f043fe16",
   "metadata": {},
   "outputs": [],
   "source": [
    "#id_.append(int(faculty.find(class_ = 'faculty-link')['href'].split('/')[-1]))"
   ]
  },
  {
   "cell_type": "code",
   "execution_count": 31,
   "id": "8832d57c",
   "metadata": {},
   "outputs": [],
   "source": [
    "#name"
   ]
  },
  {
   "cell_type": "code",
   "execution_count": 32,
   "id": "415ae241",
   "metadata": {},
   "outputs": [],
   "source": [
    "#email"
   ]
  },
  {
   "cell_type": "code",
   "execution_count": 33,
   "id": "a707140c",
   "metadata": {},
   "outputs": [],
   "source": [
    "#faculty = f[0]"
   ]
  },
  {
   "cell_type": "code",
   "execution_count": 34,
   "id": "4c4f6fcf",
   "metadata": {},
   "outputs": [],
   "source": [
    "#desig"
   ]
  },
  {
   "cell_type": "code",
   "execution_count": 35,
   "id": "9c651ce8",
   "metadata": {},
   "outputs": [],
   "source": [
    "#img"
   ]
  },
  {
   "cell_type": "code",
   "execution_count": 36,
   "id": "8a6a5251",
   "metadata": {},
   "outputs": [],
   "source": [
    "#profile"
   ]
  },
  {
   "cell_type": "code",
   "execution_count": 37,
   "id": "bdd58a3b",
   "metadata": {},
   "outputs": [],
   "source": [
    "#faculty"
   ]
  },
  {
   "cell_type": "code",
   "execution_count": 38,
   "id": "ac13c615",
   "metadata": {},
   "outputs": [],
   "source": [
    "#faculty4 = f[4]\n",
    "#faculty4"
   ]
  },
  {
   "cell_type": "code",
   "execution_count": 39,
   "id": "4ee51b9c",
   "metadata": {},
   "outputs": [],
   "source": [
    "#faculty.find(class_ = 'faculty-link')"
   ]
  },
  {
   "cell_type": "code",
   "execution_count": 40,
   "id": "480331a4",
   "metadata": {},
   "outputs": [],
   "source": [
    "#faculty4.find(class_ = 'faculty-link')"
   ]
  },
  {
   "cell_type": "code",
   "execution_count": 41,
   "id": "09698377",
   "metadata": {},
   "outputs": [],
   "source": [
    "#faculty.find(class_ = 'faculty-link')['href']"
   ]
  },
  {
   "cell_type": "code",
   "execution_count": 42,
   "id": "e9d58df4",
   "metadata": {},
   "outputs": [],
   "source": [
    "#faculty.find(class_ = 'faculty-link')['href'].split('/')"
   ]
  },
  {
   "cell_type": "code",
   "execution_count": 43,
   "id": "b3072347",
   "metadata": {},
   "outputs": [],
   "source": [
    "#faculty.find(class_ = 'faculty-link')['href'].split('/')[-1]"
   ]
  },
  {
   "cell_type": "code",
   "execution_count": 44,
   "id": "ccdf81fb",
   "metadata": {},
   "outputs": [],
   "source": [
    "#int(faculty.find(class_ = 'faculty-link')['href'].split('/')[-1])"
   ]
  },
  {
   "cell_type": "code",
   "execution_count": 45,
   "id": "c5938ef5",
   "metadata": {},
   "outputs": [],
   "source": [
    "#faculty.find('h5' , class_ = 'text-center')"
   ]
  },
  {
   "cell_type": "code",
   "execution_count": 46,
   "id": "856b35a5",
   "metadata": {},
   "outputs": [],
   "source": [
    "#faculty.find('h5' , class_ = 'text-center').text"
   ]
  },
  {
   "cell_type": "code",
   "execution_count": 47,
   "id": "f2bd05b3",
   "metadata": {},
   "outputs": [],
   "source": [
    "#name =faculty.find('p' , class_ = 'small')"
   ]
  },
  {
   "cell_type": "code",
   "execution_count": 48,
   "id": "8eec46c2",
   "metadata": {},
   "outputs": [],
   "source": [
    "#faculty.find('p' , class_ = 'small').text"
   ]
  },
  {
   "cell_type": "code",
   "execution_count": 49,
   "id": "073db789",
   "metadata": {},
   "outputs": [],
   "source": [
    "#faculty.find('p' , class_ = 'small').text.strip()"
   ]
  },
  {
   "cell_type": "code",
   "execution_count": 50,
   "id": "e9fb270d",
   "metadata": {},
   "outputs": [],
   "source": [
    "#faculty.find('p' , class_ = 'small').text.strip().split('\\n')[0]"
   ]
  },
  {
   "cell_type": "code",
   "execution_count": 51,
   "id": "1f25c06e",
   "metadata": {},
   "outputs": [],
   "source": [
    "#faculty.find('p' , class_ = 'mb-0').text.strip().split('\\n')[0]"
   ]
  },
  {
   "cell_type": "code",
   "execution_count": 52,
   "id": "ed98e1b8",
   "metadata": {},
   "outputs": [],
   "source": [
    "#'https://lhr.nu.edu.pk'+ faculty.find('img' , class_ = 'card-img-top')['src']"
   ]
  },
  {
   "cell_type": "code",
   "execution_count": 53,
   "id": "828e3fd1",
   "metadata": {},
   "outputs": [],
   "source": [
    "#img = 'https://lhr.nu.edu.pk/media/Faculty/02_-_Dr._Kashif_Zafar_Prof__HoD_CS.png'"
   ]
  },
  {
   "cell_type": "code",
   "execution_count": 54,
   "id": "9fa8f4ad",
   "metadata": {},
   "outputs": [],
   "source": [
    "#faculty.find('a' , class_ = 'faculty-link')['href']"
   ]
  },
  {
   "cell_type": "code",
   "execution_count": 55,
   "id": "82b43473",
   "metadata": {},
   "outputs": [],
   "source": [
    "#'https://lhr.nu.edu.pk'+faculty.find('a' , class_ = 'faculty-link')['href']"
   ]
  },
  {
   "cell_type": "code",
   "execution_count": 56,
   "id": "3ac89fdc",
   "metadata": {},
   "outputs": [
    {
     "name": "stdout",
     "output_type": "stream",
     "text": [
      "184\n",
      "184\n",
      "184\n",
      "184\n",
      "184\n",
      "184\n"
     ]
    }
   ],
   "source": [
    "print(len(id_))\n",
    "print(len(name))\n",
    "print(len(email))\n",
    "print(len(profile))\n",
    "print(len(desig))\n",
    "print(len(img))"
   ]
  },
  {
   "cell_type": "code",
   "execution_count": 57,
   "id": "f2ddaabe",
   "metadata": {},
   "outputs": [],
   "source": [
    "df = pd.DataFrame({'ID':id_,\n",
    "                  'Name':name,\n",
    "                  'Email':email,\n",
    "                  'Profile':profile,\n",
    "                  'Designation':desig,\n",
    "                  'Image':img,\n",
    "                   'HEC': bool_HEC,\n",
    "                   'Department' :department,\n",
    "                   'Extension' : exten,\n",
    "                   'Education' : education\n",
    "                   \n",
    "                  })"
   ]
  },
  {
   "cell_type": "code",
   "execution_count": 58,
   "id": "11744cd3",
   "metadata": {},
   "outputs": [
    {
     "data": {
      "text/html": [
       "<div>\n",
       "<style scoped>\n",
       "    .dataframe tbody tr th:only-of-type {\n",
       "        vertical-align: middle;\n",
       "    }\n",
       "\n",
       "    .dataframe tbody tr th {\n",
       "        vertical-align: top;\n",
       "    }\n",
       "\n",
       "    .dataframe thead th {\n",
       "        text-align: right;\n",
       "    }\n",
       "</style>\n",
       "<table border=\"1\" class=\"dataframe\">\n",
       "  <thead>\n",
       "    <tr style=\"text-align: right;\">\n",
       "      <th></th>\n",
       "      <th>ID</th>\n",
       "      <th>Name</th>\n",
       "      <th>Email</th>\n",
       "      <th>Profile</th>\n",
       "      <th>Designation</th>\n",
       "      <th>Image</th>\n",
       "      <th>HEC</th>\n",
       "      <th>Department</th>\n",
       "      <th>Extension</th>\n",
       "      <th>Education</th>\n",
       "    </tr>\n",
       "  </thead>\n",
       "  <tbody>\n",
       "    <tr>\n",
       "      <th>0</th>\n",
       "      <td>1238</td>\n",
       "      <td>Dr. Kashif Zafar</td>\n",
       "      <td>kashif.zafar@nu.edu.pk</td>\n",
       "      <td>https://lhr.nu.edu.pk/fsc/facultyProfile/1238</td>\n",
       "      <td>Professor</td>\n",
       "      <td>https://lhr.nu.edu.pk/media/Faculty/02_-_Dr._K...</td>\n",
       "      <td>True</td>\n",
       "      <td>CS</td>\n",
       "      <td>221</td>\n",
       "      <td>Ph.D</td>\n",
       "    </tr>\n",
       "    <tr>\n",
       "      <th>1</th>\n",
       "      <td>4391</td>\n",
       "      <td>Dr. Asif Mahmood Gillani</td>\n",
       "      <td>asif.gilani@nu.edu.pk</td>\n",
       "      <td>https://lhr.nu.edu.pk/fsc/facultyProfile/4391</td>\n",
       "      <td>Professor</td>\n",
       "      <td>https://lhr.nu.edu.pk/media/Faculty/03_-_Dr._A...</td>\n",
       "      <td>True</td>\n",
       "      <td>CS</td>\n",
       "      <td>291</td>\n",
       "      <td>Ph.D</td>\n",
       "    </tr>\n",
       "    <tr>\n",
       "      <th>2</th>\n",
       "      <td>5424</td>\n",
       "      <td>Dr. Hammad Naveed</td>\n",
       "      <td>hammad.naveed@nu.edu.pk</td>\n",
       "      <td>https://lhr.nu.edu.pk/fsc/facultyProfile/5424</td>\n",
       "      <td>Professor</td>\n",
       "      <td>https://lhr.nu.edu.pk/media/Faculty/01_-_Dr._H...</td>\n",
       "      <td>True</td>\n",
       "      <td>CS</td>\n",
       "      <td>227</td>\n",
       "      <td>Ph.D.</td>\n",
       "    </tr>\n",
       "    <tr>\n",
       "      <th>3</th>\n",
       "      <td>6174</td>\n",
       "      <td>Dr. Arshad Ali</td>\n",
       "      <td>arshad.ali1@nu.edu.pk</td>\n",
       "      <td>https://lhr.nu.edu.pk/fsc/facultyProfile/6174</td>\n",
       "      <td>Associate Professor</td>\n",
       "      <td>https://lhr.nu.edu.pk/media/Faculty/04_-_Dr._A...</td>\n",
       "      <td>True</td>\n",
       "      <td>CS</td>\n",
       "      <td>406</td>\n",
       "      <td>PhD</td>\n",
       "    </tr>\n",
       "    <tr>\n",
       "      <th>4</th>\n",
       "      <td>6113</td>\n",
       "      <td>Dr. Asma Naseer</td>\n",
       "      <td>asma.naseer@nu.edu.pk</td>\n",
       "      <td>https://lhr.nu.edu.pk/fsc/facultyProfile/6113</td>\n",
       "      <td>Associate Professor</td>\n",
       "      <td>https://lhr.nu.edu.pk/media/Faculty/Dr_Asma_Na...</td>\n",
       "      <td>True</td>\n",
       "      <td>CS</td>\n",
       "      <td>410</td>\n",
       "      <td>PhD</td>\n",
       "    </tr>\n",
       "    <tr>\n",
       "      <th>...</th>\n",
       "      <td>...</td>\n",
       "      <td>...</td>\n",
       "      <td>...</td>\n",
       "      <td>...</td>\n",
       "      <td>...</td>\n",
       "      <td>...</td>\n",
       "      <td>...</td>\n",
       "      <td>...</td>\n",
       "      <td>...</td>\n",
       "      <td>...</td>\n",
       "    </tr>\n",
       "    <tr>\n",
       "      <th>179</th>\n",
       "      <td>6420</td>\n",
       "      <td>Ms. Nokhaiz Zahra</td>\n",
       "      <td>nokhaiz.zahra@nu.edu.pk</td>\n",
       "      <td>https://lhr.nu.edu.pk/ss/facultyProfile/6420</td>\n",
       "      <td>Instructor</td>\n",
       "      <td>https://lhr.nu.edu.pk/media/Faculty/165_-_Nokh...</td>\n",
       "      <td>False</td>\n",
       "      <td>SS</td>\n",
       "      <td>324</td>\n",
       "      <td>MA, Virtual University</td>\n",
       "    </tr>\n",
       "    <tr>\n",
       "      <th>180</th>\n",
       "      <td>6181</td>\n",
       "      <td>Ms. Rida Ahmed</td>\n",
       "      <td>rida.ahmed@nu.edu.pk</td>\n",
       "      <td>https://lhr.nu.edu.pk/ss/facultyProfile/6181</td>\n",
       "      <td>Instructor</td>\n",
       "      <td>https://lhr.nu.edu.pk/media/Faculty/6181-remov...</td>\n",
       "      <td>False</td>\n",
       "      <td>SS</td>\n",
       "      <td>363</td>\n",
       "      <td>BS</td>\n",
       "    </tr>\n",
       "    <tr>\n",
       "      <th>181</th>\n",
       "      <td>6555</td>\n",
       "      <td>Ms. Aqsa Naz</td>\n",
       "      <td>aqsa.naz@nu.edu.pk</td>\n",
       "      <td>https://lhr.nu.edu.pk/ss/facultyProfile/6555</td>\n",
       "      <td>Lecturer (English)</td>\n",
       "      <td>https://lhr.nu.edu.pk/media/Faculty/161_-_Aqsa...</td>\n",
       "      <td>False</td>\n",
       "      <td>SS</td>\n",
       "      <td>324</td>\n",
       "      <td>M.Phil</td>\n",
       "    </tr>\n",
       "    <tr>\n",
       "      <th>182</th>\n",
       "      <td>-1</td>\n",
       "      <td>Mr. Hafiz Umair Gulzar</td>\n",
       "      <td>umair.gulzar@nu.edu.pk</td>\n",
       "      <td>https://lhr.nu.edu.pk/ss/facultyProfile/BBA,%2...</td>\n",
       "      <td>Lecturer (Islamiat)</td>\n",
       "      <td>https://lhr.nu.edu.pk/media/Faculty/163_-_Hafi...</td>\n",
       "      <td>False</td>\n",
       "      <td>SS</td>\n",
       "      <td>207</td>\n",
       "      <td>M.Phil</td>\n",
       "    </tr>\n",
       "    <tr>\n",
       "      <th>183</th>\n",
       "      <td>6548</td>\n",
       "      <td>Ms. Rubab Arshad</td>\n",
       "      <td>rubab.arshad@nu.edu.pk</td>\n",
       "      <td>https://lhr.nu.edu.pk/ss/facultyProfile/6548</td>\n",
       "      <td>Lecturer (English)</td>\n",
       "      <td>https://lhr.nu.edu.pk/media/Faculty/162_-_Ruba...</td>\n",
       "      <td>False</td>\n",
       "      <td>SS</td>\n",
       "      <td>286</td>\n",
       "      <td>MS</td>\n",
       "    </tr>\n",
       "  </tbody>\n",
       "</table>\n",
       "<p>184 rows × 10 columns</p>\n",
       "</div>"
      ],
      "text/plain": [
       "       ID                      Name                    Email  \\\n",
       "0    1238          Dr. Kashif Zafar   kashif.zafar@nu.edu.pk   \n",
       "1    4391  Dr. Asif Mahmood Gillani    asif.gilani@nu.edu.pk   \n",
       "2    5424         Dr. Hammad Naveed  hammad.naveed@nu.edu.pk   \n",
       "3    6174            Dr. Arshad Ali    arshad.ali1@nu.edu.pk   \n",
       "4    6113           Dr. Asma Naseer    asma.naseer@nu.edu.pk   \n",
       "..    ...                       ...                      ...   \n",
       "179  6420         Ms. Nokhaiz Zahra  nokhaiz.zahra@nu.edu.pk   \n",
       "180  6181            Ms. Rida Ahmed     rida.ahmed@nu.edu.pk   \n",
       "181  6555              Ms. Aqsa Naz       aqsa.naz@nu.edu.pk   \n",
       "182    -1    Mr. Hafiz Umair Gulzar   umair.gulzar@nu.edu.pk   \n",
       "183  6548          Ms. Rubab Arshad   rubab.arshad@nu.edu.pk   \n",
       "\n",
       "                                               Profile          Designation  \\\n",
       "0        https://lhr.nu.edu.pk/fsc/facultyProfile/1238            Professor   \n",
       "1        https://lhr.nu.edu.pk/fsc/facultyProfile/4391            Professor   \n",
       "2        https://lhr.nu.edu.pk/fsc/facultyProfile/5424            Professor   \n",
       "3        https://lhr.nu.edu.pk/fsc/facultyProfile/6174  Associate Professor   \n",
       "4        https://lhr.nu.edu.pk/fsc/facultyProfile/6113  Associate Professor   \n",
       "..                                                 ...                  ...   \n",
       "179       https://lhr.nu.edu.pk/ss/facultyProfile/6420           Instructor   \n",
       "180       https://lhr.nu.edu.pk/ss/facultyProfile/6181           Instructor   \n",
       "181       https://lhr.nu.edu.pk/ss/facultyProfile/6555   Lecturer (English)   \n",
       "182  https://lhr.nu.edu.pk/ss/facultyProfile/BBA,%2...  Lecturer (Islamiat)   \n",
       "183       https://lhr.nu.edu.pk/ss/facultyProfile/6548   Lecturer (English)   \n",
       "\n",
       "                                                 Image    HEC Department  \\\n",
       "0    https://lhr.nu.edu.pk/media/Faculty/02_-_Dr._K...   True         CS   \n",
       "1    https://lhr.nu.edu.pk/media/Faculty/03_-_Dr._A...   True         CS   \n",
       "2    https://lhr.nu.edu.pk/media/Faculty/01_-_Dr._H...   True         CS   \n",
       "3    https://lhr.nu.edu.pk/media/Faculty/04_-_Dr._A...   True         CS   \n",
       "4    https://lhr.nu.edu.pk/media/Faculty/Dr_Asma_Na...   True         CS   \n",
       "..                                                 ...    ...        ...   \n",
       "179  https://lhr.nu.edu.pk/media/Faculty/165_-_Nokh...  False         SS   \n",
       "180  https://lhr.nu.edu.pk/media/Faculty/6181-remov...  False         SS   \n",
       "181  https://lhr.nu.edu.pk/media/Faculty/161_-_Aqsa...  False         SS   \n",
       "182  https://lhr.nu.edu.pk/media/Faculty/163_-_Hafi...  False         SS   \n",
       "183  https://lhr.nu.edu.pk/media/Faculty/162_-_Ruba...  False         SS   \n",
       "\n",
       "    Extension                Education  \n",
       "0         221                     Ph.D  \n",
       "1         291                     Ph.D  \n",
       "2         227                   Ph.D.   \n",
       "3         406                     PhD   \n",
       "4         410                     PhD   \n",
       "..        ...                      ...  \n",
       "179       324   MA, Virtual University  \n",
       "180       363                      BS   \n",
       "181       324                  M.Phil   \n",
       "182       207                  M.Phil   \n",
       "183       286                      MS   \n",
       "\n",
       "[184 rows x 10 columns]"
      ]
     },
     "execution_count": 58,
     "metadata": {},
     "output_type": "execute_result"
    }
   ],
   "source": [
    "df"
   ]
  },
  {
   "cell_type": "code",
   "execution_count": 59,
   "id": "625c5187",
   "metadata": {},
   "outputs": [
    {
     "data": {
      "text/plain": [
       "1"
      ]
     },
     "execution_count": 59,
     "metadata": {},
     "output_type": "execute_result"
    }
   ],
   "source": [
    "1"
   ]
  },
  {
   "cell_type": "code",
   "execution_count": 61,
   "id": "58deceac",
   "metadata": {},
   "outputs": [],
   "source": [
    "df.to_csv('NUCES_FACULTY1.csv')"
   ]
  },
  {
   "cell_type": "code",
   "execution_count": null,
   "id": "3dbb895e",
   "metadata": {},
   "outputs": [],
   "source": []
  },
  {
   "cell_type": "code",
   "execution_count": null,
   "id": "becd2798",
   "metadata": {},
   "outputs": [],
   "source": []
  },
  {
   "cell_type": "code",
   "execution_count": null,
   "id": "1d1f0548",
   "metadata": {},
   "outputs": [],
   "source": []
  }
 ],
 "metadata": {
  "kernelspec": {
   "display_name": "Python 3 (ipykernel)",
   "language": "python",
   "name": "python3"
  },
  "language_info": {
   "codemirror_mode": {
    "name": "ipython",
    "version": 3
   },
   "file_extension": ".py",
   "mimetype": "text/x-python",
   "name": "python",
   "nbconvert_exporter": "python",
   "pygments_lexer": "ipython3",
   "version": "3.10.9"
  }
 },
 "nbformat": 4,
 "nbformat_minor": 5
}
